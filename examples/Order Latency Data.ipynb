{
 "cells": [
  {
   "cell_type": "markdown",
   "id": "ea63cd0b-9873-4afd-815c-35a056bc0e37",
   "metadata": {},
   "source": [
    "# Order Latency Data\n",
    "\n",
    "To obtain more realistic backtesting results, accounting for latencies is crucial. Therefore, it's important to collect both feed data and order data with timestamps to measure your order latency. The best approach is to gather your own order latencies. You can collect order latency based on your live trading or by regularly submitting orders at a price that cannot be filled and then canceling them for recording purposes. However, if you don't have access to them or want to establish a target, you will need to artificially generate order latency. You can model this latency based on factors such as feed latency, trade volume, and the number of events. In this guide, we will demonstrate a simple method to generate order latency from feed latency using a multiplier and offset for adjustment."
   ]
  },
  {
   "cell_type": "markdown",
   "id": "ce73ae54-2e57-489e-919e-d1f9271f4461",
   "metadata": {},
   "source": [
    "First, loads the feed data."
   ]
  },
  {
   "cell_type": "code",
   "execution_count": 6,
   "id": "ab04f05e-259b-4a68-b701-1df3f2c19a82",
   "metadata": {},
   "outputs": [
    {
     "data": {
      "text/plain": [
       "array([(3758096385, 1722346072131000000, 1722346072346042089,  1000. , 5.99205e+02, 0, 0, 0.),\n",
       "       (3758096385, 1722346072131000000, 1722346072346042089,  5000. , 4.29400e+00, 0, 0, 0.),\n",
       "       (3758096385, 1722346072131000000, 1722346072346042089, 65909.2, 1.50000e-02, 0, 0, 0.),\n",
       "       ...,\n",
       "       (3489660929, 1722383999979000000, 1722383999982455596, 66183.3, 0.00000e+00, 0, 0, 0.),\n",
       "       (3489660929, 1722383999979000000, 1722383999982455596, 66184.5, 5.76000e-01, 0, 0, 0.),\n",
       "       (3489660929, 1722383999979000000, 1722383999982455596, 66230. , 4.01000e-01, 0, 0, 0.)],\n",
       "      dtype=[('ev', '<u8'), ('exch_ts', '<i8'), ('local_ts', '<i8'), ('px', '<f8'), ('qty', '<f8'), ('order_id', '<u8'), ('ival', '<i8'), ('fval', '<f8')])"
      ]
     },
     "execution_count": 6,
     "metadata": {},
     "output_type": "execute_result"
    }
   ],
   "source": [
    "import numpy as np\n",
    "\n",
    "data = np.load(r'D:\\gptcv\\hftbacktest\\Data\\btcusdt\\btcusdt_20240730.npz')['data']\n",
    "data"
   ]
  },
  {
   "cell_type": "markdown",
   "id": "ef2deb8c-4cd3-44ad-a639-b42f126be63a",
   "metadata": {},
   "source": [
    "For easy manipulation, converts it into a DataFrame."
   ]
  },
  {
   "cell_type": "code",
   "execution_count": 7,
   "id": "bb32210a-34b6-489d-b32d-0522ce9daa97",
   "metadata": {},
   "outputs": [
    {
     "data": {
      "text/html": [
       "<div><style>\n",
       ".dataframe > thead > tr,\n",
       ".dataframe > tbody > tr {\n",
       "  text-align: right;\n",
       "  white-space: pre-wrap;\n",
       "}\n",
       "</style>\n",
       "<small>shape: (64_990_033, 8)</small><table border=\"1\" class=\"dataframe\"><thead><tr><th>ev</th><th>exch_ts</th><th>local_ts</th><th>px</th><th>qty</th><th>order_id</th><th>ival</th><th>fval</th></tr><tr><td>u64</td><td>i64</td><td>i64</td><td>f64</td><td>f64</td><td>u64</td><td>i64</td><td>f64</td></tr></thead><tbody><tr><td>3758096385</td><td>1722346072131000000</td><td>1722346072346042089</td><td>1000.0</td><td>599.205</td><td>0</td><td>0</td><td>0.0</td></tr><tr><td>3758096385</td><td>1722346072131000000</td><td>1722346072346042089</td><td>5000.0</td><td>4.294</td><td>0</td><td>0</td><td>0.0</td></tr><tr><td>3758096385</td><td>1722346072131000000</td><td>1722346072346042089</td><td>65909.2</td><td>0.015</td><td>0</td><td>0</td><td>0.0</td></tr><tr><td>3758096385</td><td>1722346072131000000</td><td>1722346072346042089</td><td>66441.8</td><td>1.373</td><td>0</td><td>0</td><td>0.0</td></tr><tr><td>3758096385</td><td>1722346072131000000</td><td>1722346072346042089</td><td>66517.0</td><td>54.508</td><td>0</td><td>0</td><td>0.0</td></tr><tr><td>&hellip;</td><td>&hellip;</td><td>&hellip;</td><td>&hellip;</td><td>&hellip;</td><td>&hellip;</td><td>&hellip;</td><td>&hellip;</td></tr><tr><td>3489660929</td><td>1722383999979000000</td><td>1722383999982455596</td><td>66171.0</td><td>0.18</td><td>0</td><td>0</td><td>0.0</td></tr><tr><td>3489660929</td><td>1722383999979000000</td><td>1722383999982455596</td><td>66172.0</td><td>0.08</td><td>0</td><td>0</td><td>0.0</td></tr><tr><td>3489660929</td><td>1722383999979000000</td><td>1722383999982455596</td><td>66183.3</td><td>0.0</td><td>0</td><td>0</td><td>0.0</td></tr><tr><td>3489660929</td><td>1722383999979000000</td><td>1722383999982455596</td><td>66184.5</td><td>0.576</td><td>0</td><td>0</td><td>0.0</td></tr><tr><td>3489660929</td><td>1722383999979000000</td><td>1722383999982455596</td><td>66230.0</td><td>0.401</td><td>0</td><td>0</td><td>0.0</td></tr></tbody></table></div>"
      ],
      "text/plain": [
       "shape: (64_990_033, 8)\n",
       "┌────────────┬────────────────────┬───────────────────┬─────────┬─────────┬──────────┬──────┬──────┐\n",
       "│ ev         ┆ exch_ts            ┆ local_ts          ┆ px      ┆ qty     ┆ order_id ┆ ival ┆ fval │\n",
       "│ ---        ┆ ---                ┆ ---               ┆ ---     ┆ ---     ┆ ---      ┆ ---  ┆ ---  │\n",
       "│ u64        ┆ i64                ┆ i64               ┆ f64     ┆ f64     ┆ u64      ┆ i64  ┆ f64  │\n",
       "╞════════════╪════════════════════╪═══════════════════╪═════════╪═════════╪══════════╪══════╪══════╡\n",
       "│ 3758096385 ┆ 172234607213100000 ┆ 17223460723460420 ┆ 1000.0  ┆ 599.205 ┆ 0        ┆ 0    ┆ 0.0  │\n",
       "│            ┆ 0                  ┆ 89                ┆         ┆         ┆          ┆      ┆      │\n",
       "│ 3758096385 ┆ 172234607213100000 ┆ 17223460723460420 ┆ 5000.0  ┆ 4.294   ┆ 0        ┆ 0    ┆ 0.0  │\n",
       "│            ┆ 0                  ┆ 89                ┆         ┆         ┆          ┆      ┆      │\n",
       "│ 3758096385 ┆ 172234607213100000 ┆ 17223460723460420 ┆ 65909.2 ┆ 0.015   ┆ 0        ┆ 0    ┆ 0.0  │\n",
       "│            ┆ 0                  ┆ 89                ┆         ┆         ┆          ┆      ┆      │\n",
       "│ 3758096385 ┆ 172234607213100000 ┆ 17223460723460420 ┆ 66441.8 ┆ 1.373   ┆ 0        ┆ 0    ┆ 0.0  │\n",
       "│            ┆ 0                  ┆ 89                ┆         ┆         ┆          ┆      ┆      │\n",
       "│ 3758096385 ┆ 172234607213100000 ┆ 17223460723460420 ┆ 66517.0 ┆ 54.508  ┆ 0        ┆ 0    ┆ 0.0  │\n",
       "│            ┆ 0                  ┆ 89                ┆         ┆         ┆          ┆      ┆      │\n",
       "│ …          ┆ …                  ┆ …                 ┆ …       ┆ …       ┆ …        ┆ …    ┆ …    │\n",
       "│ 3489660929 ┆ 172238399997900000 ┆ 17223839999824555 ┆ 66171.0 ┆ 0.18    ┆ 0        ┆ 0    ┆ 0.0  │\n",
       "│            ┆ 0                  ┆ 96                ┆         ┆         ┆          ┆      ┆      │\n",
       "│ 3489660929 ┆ 172238399997900000 ┆ 17223839999824555 ┆ 66172.0 ┆ 0.08    ┆ 0        ┆ 0    ┆ 0.0  │\n",
       "│            ┆ 0                  ┆ 96                ┆         ┆         ┆          ┆      ┆      │\n",
       "│ 3489660929 ┆ 172238399997900000 ┆ 17223839999824555 ┆ 66183.3 ┆ 0.0     ┆ 0        ┆ 0    ┆ 0.0  │\n",
       "│            ┆ 0                  ┆ 96                ┆         ┆         ┆          ┆      ┆      │\n",
       "│ 3489660929 ┆ 172238399997900000 ┆ 17223839999824555 ┆ 66184.5 ┆ 0.576   ┆ 0        ┆ 0    ┆ 0.0  │\n",
       "│            ┆ 0                  ┆ 96                ┆         ┆         ┆          ┆      ┆      │\n",
       "│ 3489660929 ┆ 172238399997900000 ┆ 17223839999824555 ┆ 66230.0 ┆ 0.401   ┆ 0        ┆ 0    ┆ 0.0  │\n",
       "│            ┆ 0                  ┆ 96                ┆         ┆         ┆          ┆      ┆      │\n",
       "└────────────┴────────────────────┴───────────────────┴─────────┴─────────┴──────────┴──────┴──────┘"
      ]
     },
     "execution_count": 7,
     "metadata": {},
     "output_type": "execute_result"
    }
   ],
   "source": [
    "import polars as pl\n",
    "\n",
    "df = pl.DataFrame(data)\n",
    "df"
   ]
  },
  {
   "cell_type": "markdown",
   "id": "0a2f5db2-b6ab-420d-b5f9-0ca8e123607b",
   "metadata": {},
   "source": [
    "Selects only the events that have both a valid exchange timestamp and a valid local timestamp to get feed latency."
   ]
  },
  {
   "cell_type": "code",
   "execution_count": 8,
   "id": "349335b0-50a4-4e3a-a721-c55388d71b01",
   "metadata": {},
   "outputs": [],
   "source": [
    "from hftbacktest import EXCH_EVENT, LOCAL_EVENT\n",
    "\n",
    "df = df.filter((pl.col('ev') & EXCH_EVENT == EXCH_EVENT) & (pl.col('ev') & LOCAL_EVENT == LOCAL_EVENT))"
   ]
  },
  {
   "cell_type": "markdown",
   "id": "e641eb14-5370-4cc3-bf52-e940d94745a1",
   "metadata": {},
   "source": [
    "Reduces the number of rows by resampling to approximately 1-second intervals."
   ]
  },
  {
   "cell_type": "code",
   "execution_count": 9,
   "id": "577ad180-42ad-46f8-9723-1b2c9b14d9c2",
   "metadata": {},
   "outputs": [
    {
     "data": {
      "text/html": [
       "<div><style>\n",
       ".dataframe > thead > tr,\n",
       ".dataframe > tbody > tr {\n",
       "  text-align: right;\n",
       "  white-space: pre-wrap;\n",
       "}\n",
       "</style>\n",
       "<small>shape: (37_927, 2)</small><table border=\"1\" class=\"dataframe\"><thead><tr><th>exch_ts</th><th>local_ts</th></tr><tr><td>i64</td><td>i64</td></tr></thead><tbody><tr><td>1722346072286000000</td><td>1722346072355324402</td></tr><tr><td>1722346073933000000</td><td>1722346073955665228</td></tr><tr><td>1722346074948000000</td><td>1722346074951565434</td></tr><tr><td>1722346075996000000</td><td>1722346075998305521</td></tr><tr><td>1722346076987000000</td><td>1722346076992783671</td></tr><tr><td>&hellip;</td><td>&hellip;</td></tr><tr><td>1722383995955000000</td><td>1722383995966269307</td></tr><tr><td>1722383996974000000</td><td>1722383996977624480</td></tr><tr><td>1722383997984000000</td><td>1722383997986074613</td></tr><tr><td>1722383998965000000</td><td>1722383998967968970</td></tr><tr><td>1722383999979000000</td><td>1722383999982455596</td></tr></tbody></table></div>"
      ],
      "text/plain": [
       "shape: (37_927, 2)\n",
       "┌─────────────────────┬─────────────────────┐\n",
       "│ exch_ts             ┆ local_ts            │\n",
       "│ ---                 ┆ ---                 │\n",
       "│ i64                 ┆ i64                 │\n",
       "╞═════════════════════╪═════════════════════╡\n",
       "│ 1722346072286000000 ┆ 1722346072355324402 │\n",
       "│ 1722346073933000000 ┆ 1722346073955665228 │\n",
       "│ 1722346074948000000 ┆ 1722346074951565434 │\n",
       "│ 1722346075996000000 ┆ 1722346075998305521 │\n",
       "│ 1722346076987000000 ┆ 1722346076992783671 │\n",
       "│ …                   ┆ …                   │\n",
       "│ 1722383995955000000 ┆ 1722383995966269307 │\n",
       "│ 1722383996974000000 ┆ 1722383996977624480 │\n",
       "│ 1722383997984000000 ┆ 1722383997986074613 │\n",
       "│ 1722383998965000000 ┆ 1722383998967968970 │\n",
       "│ 1722383999979000000 ┆ 1722383999982455596 │\n",
       "└─────────────────────┴─────────────────────┘"
      ]
     },
     "execution_count": 9,
     "metadata": {},
     "output_type": "execute_result"
    }
   ],
   "source": [
    "df = df.with_columns(\n",
    "    pl.col('local_ts').alias('ts')\n",
    ").group_by_dynamic(\n",
    "    'ts', every='1000000000i'\n",
    ").agg(\n",
    "    pl.col('exch_ts').last(),\n",
    "    pl.col('local_ts').last()\n",
    ").drop('ts')\n",
    "\n",
    "df"
   ]
  },
  {
   "cell_type": "markdown",
   "id": "7834be83-788e-48ae-92e9-0f01bda90cd5",
   "metadata": {},
   "source": [
    "Converts back to the structured NumPy array."
   ]
  },
  {
   "cell_type": "code",
   "execution_count": 10,
   "id": "d69e7709-d947-4e62-b5a4-c8f1e623de2a",
   "metadata": {},
   "outputs": [
    {
     "data": {
      "text/plain": [
       "array([(1722346072286000000, 1722346072355324402),\n",
       "       (1722346073933000000, 1722346073955665228),\n",
       "       (1722346074948000000, 1722346074951565434), ...,\n",
       "       (1722383997984000000, 1722383997986074613),\n",
       "       (1722383998965000000, 1722383998967968970),\n",
       "       (1722383999979000000, 1722383999982455596)],\n",
       "      dtype=[('exch_ts', '<i8'), ('local_ts', '<i8')])"
      ]
     },
     "execution_count": 10,
     "metadata": {},
     "output_type": "execute_result"
    }
   ],
   "source": [
    "data = df.to_numpy(structured=True)\n",
    "data"
   ]
  },
  {
   "cell_type": "markdown",
   "id": "4d67d41d-2ef7-4267-80e9-9bc7bbd5a271",
   "metadata": {},
   "source": [
    "Generates order latency. Order latency consists of two components: the latency until the order request reaches the exchange's matching engine and the latency until the response arrives backto the localy. Order latency is not the same as feed latency and does not need to be proportional to feed latency. However, for simplicity, we model order latency to be proportional to feed latency using a multiplier and offset."
   ]
  },
  {
   "cell_type": "code",
   "execution_count": 11,
   "id": "1de7a129-5856-473e-8453-effb1f3884cd",
   "metadata": {},
   "outputs": [
    {
     "data": {
      "text/plain": [
       "array([(1722346072355324402, 1722346072632622010, 1722346072840595216, 0),\n",
       "       (1722346073955665228, 1722346074046326140, 1722346074114321824, 0),\n",
       "       (1722346074951565434, 1722346074965827170, 1722346074976523472, 0),\n",
       "       ...,\n",
       "       (1722383997986074613, 1722383997994373065, 1722383998000596904, 0),\n",
       "       (1722383998967968970, 1722383998979844850, 1722383998988751760, 0),\n",
       "       (1722383999982455596, 1722383999996277980, 1722384000006644768, 0)],\n",
       "      dtype=[('req_ts', '<i8'), ('exch_ts', '<i8'), ('resp_ts', '<i8'), ('_padding', '<i8')])"
      ]
     },
     "execution_count": 11,
     "metadata": {},
     "output_type": "execute_result"
    }
   ],
   "source": [
    "mul_entry = 4\n",
    "offset_entry = 0\n",
    "\n",
    "mul_resp = 3\n",
    "offset_resp = 0\n",
    "\n",
    "order_latency = np.zeros(len(data), dtype=[('req_ts', 'i8'), ('exch_ts', 'i8'), ('resp_ts', 'i8'), ('_padding', 'i8')])\n",
    "for i, (exch_ts, local_ts) in enumerate(data):\n",
    "    feed_latency = local_ts - exch_ts\n",
    "    order_entry_latency = mul_entry * feed_latency + offset_entry\n",
    "    order_resp_latency = mul_resp * feed_latency + offset_resp\n",
    "\n",
    "    req_ts = local_ts\n",
    "    order_exch_ts = req_ts + order_entry_latency\n",
    "    resp_ts = order_exch_ts + order_resp_latency\n",
    "    \n",
    "    order_latency[i] = (req_ts, order_exch_ts, resp_ts, 0)\n",
    "    \n",
    "order_latency"
   ]
  },
  {
   "cell_type": "code",
   "execution_count": 12,
   "id": "cea9998d-ed9f-4ac0-aa0e-ecd791e717a5",
   "metadata": {},
   "outputs": [
    {
     "data": {
      "text/html": [
       "<div><style>\n",
       ".dataframe > thead > tr,\n",
       ".dataframe > tbody > tr {\n",
       "  text-align: right;\n",
       "  white-space: pre-wrap;\n",
       "}\n",
       "</style>\n",
       "<small>shape: (37_927, 4)</small><table border=\"1\" class=\"dataframe\"><thead><tr><th>req_ts</th><th>exch_ts</th><th>resp_ts</th><th>_padding</th></tr><tr><td>i64</td><td>i64</td><td>i64</td><td>i64</td></tr></thead><tbody><tr><td>1722346072355324402</td><td>1722346072632622010</td><td>1722346072840595216</td><td>0</td></tr><tr><td>1722346073955665228</td><td>1722346074046326140</td><td>1722346074114321824</td><td>0</td></tr><tr><td>1722346074951565434</td><td>1722346074965827170</td><td>1722346074976523472</td><td>0</td></tr><tr><td>1722346075998305521</td><td>1722346076007527605</td><td>1722346076014444168</td><td>0</td></tr><tr><td>1722346076992783671</td><td>1722346077015918355</td><td>1722346077033269368</td><td>0</td></tr><tr><td>&hellip;</td><td>&hellip;</td><td>&hellip;</td><td>&hellip;</td></tr><tr><td>1722383995966269307</td><td>1722383996011346535</td><td>1722383996045154456</td><td>0</td></tr><tr><td>1722383996977624480</td><td>1722383996992122400</td><td>1722383997002995840</td><td>0</td></tr><tr><td>1722383997986074613</td><td>1722383997994373065</td><td>1722383998000596904</td><td>0</td></tr><tr><td>1722383998967968970</td><td>1722383998979844850</td><td>1722383998988751760</td><td>0</td></tr><tr><td>1722383999982455596</td><td>1722383999996277980</td><td>1722384000006644768</td><td>0</td></tr></tbody></table></div>"
      ],
      "text/plain": [
       "shape: (37_927, 4)\n",
       "┌─────────────────────┬─────────────────────┬─────────────────────┬──────────┐\n",
       "│ req_ts              ┆ exch_ts             ┆ resp_ts             ┆ _padding │\n",
       "│ ---                 ┆ ---                 ┆ ---                 ┆ ---      │\n",
       "│ i64                 ┆ i64                 ┆ i64                 ┆ i64      │\n",
       "╞═════════════════════╪═════════════════════╪═════════════════════╪══════════╡\n",
       "│ 1722346072355324402 ┆ 1722346072632622010 ┆ 1722346072840595216 ┆ 0        │\n",
       "│ 1722346073955665228 ┆ 1722346074046326140 ┆ 1722346074114321824 ┆ 0        │\n",
       "│ 1722346074951565434 ┆ 1722346074965827170 ┆ 1722346074976523472 ┆ 0        │\n",
       "│ 1722346075998305521 ┆ 1722346076007527605 ┆ 1722346076014444168 ┆ 0        │\n",
       "│ 1722346076992783671 ┆ 1722346077015918355 ┆ 1722346077033269368 ┆ 0        │\n",
       "│ …                   ┆ …                   ┆ …                   ┆ …        │\n",
       "│ 1722383995966269307 ┆ 1722383996011346535 ┆ 1722383996045154456 ┆ 0        │\n",
       "│ 1722383996977624480 ┆ 1722383996992122400 ┆ 1722383997002995840 ┆ 0        │\n",
       "│ 1722383997986074613 ┆ 1722383997994373065 ┆ 1722383998000596904 ┆ 0        │\n",
       "│ 1722383998967968970 ┆ 1722383998979844850 ┆ 1722383998988751760 ┆ 0        │\n",
       "│ 1722383999982455596 ┆ 1722383999996277980 ┆ 1722384000006644768 ┆ 0        │\n",
       "└─────────────────────┴─────────────────────┴─────────────────────┴──────────┘"
      ]
     },
     "execution_count": 12,
     "metadata": {},
     "output_type": "execute_result"
    }
   ],
   "source": [
    "df_order_latency = pl.DataFrame(order_latency)\n",
    "df_order_latency"
   ]
  },
  {
   "cell_type": "markdown",
   "id": "0c0eb2a2-64dd-4d4a-93f6-0c52a4bdc142",
   "metadata": {},
   "source": [
    "Checks if latency has invalid negative values."
   ]
  },
  {
   "cell_type": "code",
   "execution_count": 13,
   "id": "542eace5-590e-4d30-a552-0cf0825885d5",
   "metadata": {},
   "outputs": [],
   "source": [
    "order_entry_latency = df_order_latency['exch_ts'] - df_order_latency['req_ts']\n",
    "order_resp_latency = df_order_latency['resp_ts'] - df_order_latency['exch_ts']"
   ]
  },
  {
   "cell_type": "code",
   "execution_count": 14,
   "id": "a64aad08-888f-48e7-85cc-1719ba3333b6",
   "metadata": {},
   "outputs": [
    {
     "data": {
      "text/plain": [
       "0"
      ]
     },
     "execution_count": 14,
     "metadata": {},
     "output_type": "execute_result"
    }
   ],
   "source": [
    "(order_entry_latency <= 0).sum()"
   ]
  },
  {
   "cell_type": "code",
   "execution_count": 15,
   "id": "7e770e94-4660-4b0b-827b-951a046d9529",
   "metadata": {},
   "outputs": [
    {
     "data": {
      "text/plain": [
       "0"
      ]
     },
     "execution_count": 15,
     "metadata": {},
     "output_type": "execute_result"
    }
   ],
   "source": [
    "(order_resp_latency <= 0).sum()"
   ]
  },
  {
   "cell_type": "markdown",
   "id": "18944b3a-747c-4c38-96e1-0ab6930e098c",
   "metadata": {},
   "source": [
    "Here, we wrap the entire process into a method with `njit` for increased speed."
   ]
  },
  {
   "cell_type": "code",
   "execution_count": 20,
   "id": "15b080d5-9e5f-4124-a83f-813bb2ff9414",
   "metadata": {},
   "outputs": [],
   "source": [
    "import numpy as np\n",
    "from numba import njit\n",
    "import polars as pl\n",
    "from hftbacktest import LOCAL_EVENT, EXCH_EVENT\n",
    "\n",
    "@njit\n",
    "def generate_order_latency_nb(data, order_latency, mul_entry, offset_entry, mul_resp, offset_resp):\n",
    "    for i in range(len(data)):\n",
    "        exch_ts = data[i].exch_ts\n",
    "        local_ts = data[i].local_ts\n",
    "        feed_latency = local_ts - exch_ts\n",
    "        order_entry_latency = mul_entry * feed_latency + offset_entry\n",
    "        order_resp_latency = mul_resp * feed_latency + offset_resp\n",
    "\n",
    "        req_ts = local_ts\n",
    "        order_exch_ts = req_ts + order_entry_latency\n",
    "        resp_ts = order_exch_ts + order_resp_latency\n",
    "\n",
    "        order_latency[i].req_ts = req_ts\n",
    "        order_latency[i].exch_ts = order_exch_ts\n",
    "        order_latency[i].resp_ts = resp_ts\n",
    "\n",
    "def generate_order_latency(feed_file, output_file = None, mul_entry = 1, offset_entry = 0, mul_resp = 1, offset_resp = 0):\n",
    "    data = np.load(feed_file)['data']\n",
    "    df = pl.DataFrame(data)\n",
    "    \n",
    "    df = df.filter(\n",
    "        (pl.col('ev') & EXCH_EVENT == EXCH_EVENT) & (pl.col('ev') & LOCAL_EVENT == LOCAL_EVENT)\n",
    "    ).with_columns(\n",
    "        pl.col('local_ts').alias('ts')\n",
    "    ).group_by_dynamic(\n",
    "        'ts', every='1000000000i'\n",
    "    ).agg(\n",
    "        pl.col('exch_ts').last(),\n",
    "        pl.col('local_ts').last()\n",
    "    ).drop('ts')\n",
    "    \n",
    "    data = df.to_numpy(structured=True)\n",
    "\n",
    "    order_latency = np.zeros(len(data), dtype=[('req_ts', 'i8'), ('exch_ts', 'i8'), ('resp_ts', 'i8'), ('_padding', 'i8')])\n",
    "    \n",
    "    #output_file = r'D:\\gptcv\\hftbacktest\\latency\\feed_latency_20240730.npz'\n",
    "    generate_order_latency_nb(data, order_latency, mul_entry, offset_entry, mul_resp, offset_resp)\n",
    "    print(order_latency)\n",
    "    if output_file is not None:\n",
    "        print(order_latency)\n",
    "        np.savez_compressed(output_file, data=order_latency)\n",
    "\n",
    "    return order_latency"
   ]
  },
  {
   "cell_type": "code",
   "execution_count": 21,
   "id": "09772349-cebb-4698-8c6f-b77cbd19f15b",
   "metadata": {},
   "outputs": [
    {
     "name": "stdout",
     "output_type": "stream",
     "text": [
      "[(1722384000071704170, 1722384000230520850, 1722384000349633360, 0)\n",
      " (1722384002990559395, 1722384003008796975, 1722384003022475160, 0)\n",
      " (1722384003972886677, 1722384004088433385, 1722384004175093416, 0) ...\n",
      " (1722470397951994263, 1722470397959971315, 1722470397965954104, 0)\n",
      " (1722470398930866009, 1722470399110330045, 1722470399244928072, 0)\n",
      " (1722470399955162711, 1722470399971813555, 1722470399984301688, 0)]\n",
      "[(1722384000071704170, 1722384000230520850, 1722384000349633360, 0)\n",
      " (1722384002990559395, 1722384003008796975, 1722384003022475160, 0)\n",
      " (1722384003972886677, 1722384004088433385, 1722384004175093416, 0) ...\n",
      " (1722470397951994263, 1722470397959971315, 1722470397965954104, 0)\n",
      " (1722470398930866009, 1722470399110330045, 1722470399244928072, 0)\n",
      " (1722470399955162711, 1722470399971813555, 1722470399984301688, 0)]\n"
     ]
    }
   ],
   "source": [
    "order_latency = generate_order_latency(r'D:\\gptcv\\hftbacktest\\Data\\1000bonkusdt\\1000bonkusdt_20240731.npz', output_file=r'D:\\gptcv\\hftbacktest\\latency\\feed_latency_20240731.npz', mul_entry=4, mul_resp=3)"
   ]
  }
 ],
 "metadata": {
  "kernelspec": {
   "display_name": "Python 3 (ipykernel)",
   "language": "python",
   "name": "python3"
  },
  "language_info": {
   "codemirror_mode": {
    "name": "ipython",
    "version": 3
   },
   "file_extension": ".py",
   "mimetype": "text/x-python",
   "name": "python",
   "nbconvert_exporter": "python",
   "pygments_lexer": "ipython3",
   "version": "3.10.11"
  }
 },
 "nbformat": 4,
 "nbformat_minor": 5
}

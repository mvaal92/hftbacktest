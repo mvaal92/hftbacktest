{
 "cells": [
  {
   "cell_type": "markdown",
   "id": "ea63cd0b-9873-4afd-815c-35a056bc0e37",
   "metadata": {},
   "source": [
    "# Order Latency Data\n",
    "\n",
    "To obtain more realistic backtesting results, accounting for latencies is crucial. Therefore, it's important to collect both feed data and order data with timestamps to measure your order latency. The best approach is to gather your own order latencies. You can collect order latency based on your live trading or by regularly submitting orders at a price that cannot be filled and then canceling them for recording purposes. However, if you don't have access to them or want to establish a target, you will need to artificially generate order latency. You can model this latency based on factors such as feed latency, trade volume, and the number of events. In this guide, we will demonstrate a simple method to generate order latency from feed latency using a multiplier and offset for adjustment."
   ]
  },
  {
   "cell_type": "markdown",
   "id": "ce73ae54-2e57-489e-919e-d1f9271f4461",
   "metadata": {},
   "source": [
    "First, loads the feed data."
   ]
  },
  {
   "cell_type": "code",
   "execution_count": 3,
   "id": "ab04f05e-259b-4a68-b701-1df3f2c19a82",
   "metadata": {},
   "outputs": [
    {
     "data": {
      "text/plain": [
       "array([(3758096385, 1722346072115000000, 1722346072148592385, 0.026995, 51594., 0, 0, 0.),\n",
       "       (3489660929, 1722346072115000000, 1722346072148592385, 0.027014, 12031., 0, 0, 0.),\n",
       "       (3489660929, 1722346072115000000, 1722346072148592385, 0.027016,  6919., 0, 0, 0.),\n",
       "       ...,\n",
       "       (3758096385, 1722383999959000000, 1722383999965999659, 0.025927, 94562., 0, 0, 0.),\n",
       "       (3489660929, 1722383999959000000, 1722383999965999659, 0.025951, 69196., 0, 0, 0.),\n",
       "       (3489660929, 1722383999959000000, 1722383999965999659, 0.025953, 22236., 0, 0, 0.)],\n",
       "      dtype=[('ev', '<u8'), ('exch_ts', '<i8'), ('local_ts', '<i8'), ('px', '<f8'), ('qty', '<f8'), ('order_id', '<u8'), ('ival', '<i8'), ('fval', '<f8')])"
      ]
     },
     "execution_count": 3,
     "metadata": {},
     "output_type": "execute_result"
    }
   ],
   "source": [
    "import numpy as np\n",
    "\n",
    "data = np.load(r'D:\\gptcv\\hftbacktest\\Data\\1000bonkusdt\\1000bonkusdt_20240730.npz')['data']\n",
    "data"
   ]
  },
  {
   "cell_type": "markdown",
   "id": "ef2deb8c-4cd3-44ad-a639-b42f126be63a",
   "metadata": {},
   "source": [
    "For easy manipulation, converts it into a DataFrame."
   ]
  },
  {
   "cell_type": "code",
   "execution_count": 4,
   "id": "bb32210a-34b6-489d-b32d-0522ce9daa97",
   "metadata": {},
   "outputs": [
    {
     "data": {
      "text/html": [
       "<div><style>\n",
       ".dataframe > thead > tr,\n",
       ".dataframe > tbody > tr {\n",
       "  text-align: right;\n",
       "  white-space: pre-wrap;\n",
       "}\n",
       "</style>\n",
       "<small>shape: (11_645_774, 8)</small><table border=\"1\" class=\"dataframe\"><thead><tr><th>ev</th><th>exch_ts</th><th>local_ts</th><th>px</th><th>qty</th><th>order_id</th><th>ival</th><th>fval</th></tr><tr><td>u64</td><td>i64</td><td>i64</td><td>f64</td><td>f64</td><td>u64</td><td>i64</td><td>f64</td></tr></thead><tbody><tr><td>3758096385</td><td>1722346072115000000</td><td>1722346072148592385</td><td>0.026995</td><td>51594.0</td><td>0</td><td>0</td><td>0.0</td></tr><tr><td>3489660929</td><td>1722346072115000000</td><td>1722346072148592385</td><td>0.027014</td><td>12031.0</td><td>0</td><td>0</td><td>0.0</td></tr><tr><td>3489660929</td><td>1722346072115000000</td><td>1722346072148592385</td><td>0.027016</td><td>6919.0</td><td>0</td><td>0</td><td>0.0</td></tr><tr><td>3489660929</td><td>1722346072115000000</td><td>1722346072148592385</td><td>0.027021</td><td>142726.0</td><td>0</td><td>0</td><td>0.0</td></tr><tr><td>3489660929</td><td>1722346072115000000</td><td>1722346072148592385</td><td>0.027059</td><td>81137.0</td><td>0</td><td>0</td><td>0.0</td></tr><tr><td>&hellip;</td><td>&hellip;</td><td>&hellip;</td><td>&hellip;</td><td>&hellip;</td><td>&hellip;</td><td>&hellip;</td><td>&hellip;</td></tr><tr><td>3758096385</td><td>1722383999959000000</td><td>1722383999965999659</td><td>0.02464</td><td>2029.0</td><td>0</td><td>0</td><td>0.0</td></tr><tr><td>3758096385</td><td>1722383999959000000</td><td>1722383999965999659</td><td>0.025314</td><td>206.0</td><td>0</td><td>0</td><td>0.0</td></tr><tr><td>3758096385</td><td>1722383999959000000</td><td>1722383999965999659</td><td>0.025927</td><td>94562.0</td><td>0</td><td>0</td><td>0.0</td></tr><tr><td>3489660929</td><td>1722383999959000000</td><td>1722383999965999659</td><td>0.025951</td><td>69196.0</td><td>0</td><td>0</td><td>0.0</td></tr><tr><td>3489660929</td><td>1722383999959000000</td><td>1722383999965999659</td><td>0.025953</td><td>22236.0</td><td>0</td><td>0</td><td>0.0</td></tr></tbody></table></div>"
      ],
      "text/plain": [
       "shape: (11_645_774, 8)\n",
       "┌────────────┬───────────────────┬──────────────────┬──────────┬──────────┬──────────┬──────┬──────┐\n",
       "│ ev         ┆ exch_ts           ┆ local_ts         ┆ px       ┆ qty      ┆ order_id ┆ ival ┆ fval │\n",
       "│ ---        ┆ ---               ┆ ---              ┆ ---      ┆ ---      ┆ ---      ┆ ---  ┆ ---  │\n",
       "│ u64        ┆ i64               ┆ i64              ┆ f64      ┆ f64      ┆ u64      ┆ i64  ┆ f64  │\n",
       "╞════════════╪═══════════════════╪══════════════════╪══════════╪══════════╪══════════╪══════╪══════╡\n",
       "│ 3758096385 ┆ 17223460721150000 ┆ 1722346072148592 ┆ 0.026995 ┆ 51594.0  ┆ 0        ┆ 0    ┆ 0.0  │\n",
       "│            ┆ 00                ┆ 385              ┆          ┆          ┆          ┆      ┆      │\n",
       "│ 3489660929 ┆ 17223460721150000 ┆ 1722346072148592 ┆ 0.027014 ┆ 12031.0  ┆ 0        ┆ 0    ┆ 0.0  │\n",
       "│            ┆ 00                ┆ 385              ┆          ┆          ┆          ┆      ┆      │\n",
       "│ 3489660929 ┆ 17223460721150000 ┆ 1722346072148592 ┆ 0.027016 ┆ 6919.0   ┆ 0        ┆ 0    ┆ 0.0  │\n",
       "│            ┆ 00                ┆ 385              ┆          ┆          ┆          ┆      ┆      │\n",
       "│ 3489660929 ┆ 17223460721150000 ┆ 1722346072148592 ┆ 0.027021 ┆ 142726.0 ┆ 0        ┆ 0    ┆ 0.0  │\n",
       "│            ┆ 00                ┆ 385              ┆          ┆          ┆          ┆      ┆      │\n",
       "│ 3489660929 ┆ 17223460721150000 ┆ 1722346072148592 ┆ 0.027059 ┆ 81137.0  ┆ 0        ┆ 0    ┆ 0.0  │\n",
       "│            ┆ 00                ┆ 385              ┆          ┆          ┆          ┆      ┆      │\n",
       "│ …          ┆ …                 ┆ …                ┆ …        ┆ …        ┆ …        ┆ …    ┆ …    │\n",
       "│ 3758096385 ┆ 17223839999590000 ┆ 1722383999965999 ┆ 0.02464  ┆ 2029.0   ┆ 0        ┆ 0    ┆ 0.0  │\n",
       "│            ┆ 00                ┆ 659              ┆          ┆          ┆          ┆      ┆      │\n",
       "│ 3758096385 ┆ 17223839999590000 ┆ 1722383999965999 ┆ 0.025314 ┆ 206.0    ┆ 0        ┆ 0    ┆ 0.0  │\n",
       "│            ┆ 00                ┆ 659              ┆          ┆          ┆          ┆      ┆      │\n",
       "│ 3758096385 ┆ 17223839999590000 ┆ 1722383999965999 ┆ 0.025927 ┆ 94562.0  ┆ 0        ┆ 0    ┆ 0.0  │\n",
       "│            ┆ 00                ┆ 659              ┆          ┆          ┆          ┆      ┆      │\n",
       "│ 3489660929 ┆ 17223839999590000 ┆ 1722383999965999 ┆ 0.025951 ┆ 69196.0  ┆ 0        ┆ 0    ┆ 0.0  │\n",
       "│            ┆ 00                ┆ 659              ┆          ┆          ┆          ┆      ┆      │\n",
       "│ 3489660929 ┆ 17223839999590000 ┆ 1722383999965999 ┆ 0.025953 ┆ 22236.0  ┆ 0        ┆ 0    ┆ 0.0  │\n",
       "│            ┆ 00                ┆ 659              ┆          ┆          ┆          ┆      ┆      │\n",
       "└────────────┴───────────────────┴──────────────────┴──────────┴──────────┴──────────┴──────┴──────┘"
      ]
     },
     "execution_count": 4,
     "metadata": {},
     "output_type": "execute_result"
    }
   ],
   "source": [
    "import polars as pl\n",
    "\n",
    "df = pl.DataFrame(data)\n",
    "df"
   ]
  },
  {
   "cell_type": "markdown",
   "id": "0a2f5db2-b6ab-420d-b5f9-0ca8e123607b",
   "metadata": {},
   "source": [
    "Selects only the events that have both a valid exchange timestamp and a valid local timestamp to get feed latency."
   ]
  },
  {
   "cell_type": "code",
   "execution_count": 5,
   "id": "349335b0-50a4-4e3a-a721-c55388d71b01",
   "metadata": {},
   "outputs": [],
   "source": [
    "from hftbacktest import EXCH_EVENT, LOCAL_EVENT\n",
    "\n",
    "df = df.filter((pl.col('ev') & EXCH_EVENT == EXCH_EVENT) & (pl.col('ev') & LOCAL_EVENT == LOCAL_EVENT))"
   ]
  },
  {
   "cell_type": "markdown",
   "id": "e641eb14-5370-4cc3-bf52-e940d94745a1",
   "metadata": {},
   "source": [
    "Reduces the number of rows by resampling to approximately 1-second intervals."
   ]
  },
  {
   "cell_type": "code",
   "execution_count": 6,
   "id": "577ad180-42ad-46f8-9723-1b2c9b14d9c2",
   "metadata": {},
   "outputs": [
    {
     "data": {
      "text/html": [
       "<div><style>\n",
       ".dataframe > thead > tr,\n",
       ".dataframe > tbody > tr {\n",
       "  text-align: right;\n",
       "  white-space: pre-wrap;\n",
       "}\n",
       "</style>\n",
       "<small>shape: (37_926, 2)</small><table border=\"1\" class=\"dataframe\"><thead><tr><th>exch_ts</th><th>local_ts</th></tr><tr><td>i64</td><td>i64</td></tr></thead><tbody><tr><td>1722346072277000000</td><td>1722346072355279990</td></tr><tr><td>1722346073936000000</td><td>1722346073962855823</td></tr><tr><td>1722346074952000000</td><td>1722346074967117346</td></tr><tr><td>1722346075953000000</td><td>1722346075966054542</td></tr><tr><td>1722346076944000000</td><td>1722346076948889529</td></tr><tr><td>&hellip;</td><td>&hellip;</td></tr><tr><td>1722383995936000000</td><td>1722383995950003153</td></tr><tr><td>1722383996995000000</td><td>1722383996998491937</td></tr><tr><td>1722383997952000000</td><td>1722383997993859276</td></tr><tr><td>1722383998927000000</td><td>1722383998965713810</td></tr><tr><td>1722383999959000000</td><td>1722383999965999659</td></tr></tbody></table></div>"
      ],
      "text/plain": [
       "shape: (37_926, 2)\n",
       "┌─────────────────────┬─────────────────────┐\n",
       "│ exch_ts             ┆ local_ts            │\n",
       "│ ---                 ┆ ---                 │\n",
       "│ i64                 ┆ i64                 │\n",
       "╞═════════════════════╪═════════════════════╡\n",
       "│ 1722346072277000000 ┆ 1722346072355279990 │\n",
       "│ 1722346073936000000 ┆ 1722346073962855823 │\n",
       "│ 1722346074952000000 ┆ 1722346074967117346 │\n",
       "│ 1722346075953000000 ┆ 1722346075966054542 │\n",
       "│ 1722346076944000000 ┆ 1722346076948889529 │\n",
       "│ …                   ┆ …                   │\n",
       "│ 1722383995936000000 ┆ 1722383995950003153 │\n",
       "│ 1722383996995000000 ┆ 1722383996998491937 │\n",
       "│ 1722383997952000000 ┆ 1722383997993859276 │\n",
       "│ 1722383998927000000 ┆ 1722383998965713810 │\n",
       "│ 1722383999959000000 ┆ 1722383999965999659 │\n",
       "└─────────────────────┴─────────────────────┘"
      ]
     },
     "execution_count": 6,
     "metadata": {},
     "output_type": "execute_result"
    }
   ],
   "source": [
    "df = df.with_columns(\n",
    "    pl.col('local_ts').alias('ts')\n",
    ").group_by_dynamic(\n",
    "    'ts', every='1000000000i'\n",
    ").agg(\n",
    "    pl.col('exch_ts').last(),\n",
    "    pl.col('local_ts').last()\n",
    ").drop('ts')\n",
    "\n",
    "df"
   ]
  },
  {
   "cell_type": "markdown",
   "id": "7834be83-788e-48ae-92e9-0f01bda90cd5",
   "metadata": {},
   "source": [
    "Converts back to the structured NumPy array."
   ]
  },
  {
   "cell_type": "code",
   "execution_count": 7,
   "id": "d69e7709-d947-4e62-b5a4-c8f1e623de2a",
   "metadata": {},
   "outputs": [
    {
     "data": {
      "text/plain": [
       "array([(1722346072277000000, 1722346072355279990),\n",
       "       (1722346073936000000, 1722346073962855823),\n",
       "       (1722346074952000000, 1722346074967117346), ...,\n",
       "       (1722383997952000000, 1722383997993859276),\n",
       "       (1722383998927000000, 1722383998965713810),\n",
       "       (1722383999959000000, 1722383999965999659)],\n",
       "      dtype=[('exch_ts', '<i8'), ('local_ts', '<i8')])"
      ]
     },
     "execution_count": 7,
     "metadata": {},
     "output_type": "execute_result"
    }
   ],
   "source": [
    "data = df.to_numpy(structured=True)\n",
    "data"
   ]
  },
  {
   "cell_type": "markdown",
   "id": "4d67d41d-2ef7-4267-80e9-9bc7bbd5a271",
   "metadata": {},
   "source": [
    "Generates order latency. Order latency consists of two components: the latency until the order request reaches the exchange's matching engine and the latency until the response arrives backto the localy. Order latency is not the same as feed latency and does not need to be proportional to feed latency. However, for simplicity, we model order latency to be proportional to feed latency using a multiplier and offset."
   ]
  },
  {
   "cell_type": "code",
   "execution_count": 8,
   "id": "1de7a129-5856-473e-8453-effb1f3884cd",
   "metadata": {},
   "outputs": [
    {
     "data": {
      "text/plain": [
       "array([(1722346072355279990, 1722346072668399950, 1722346072903239920, 0),\n",
       "       (1722346073962855823, 1722346074070279115, 1722346074150846584, 0),\n",
       "       (1722346074967117346, 1722346075027586730, 1722346075072938768, 0),\n",
       "       ...,\n",
       "       (1722383997993859276, 1722383998161296380, 1722383998286874208, 0),\n",
       "       (1722383998965713810, 1722383999120569050, 1722383999236710480, 0),\n",
       "       (1722383999965999659, 1722383999993998295, 1722384000014997272, 0)],\n",
       "      dtype=[('req_ts', '<i8'), ('exch_ts', '<i8'), ('resp_ts', '<i8'), ('_padding', '<i8')])"
      ]
     },
     "execution_count": 8,
     "metadata": {},
     "output_type": "execute_result"
    }
   ],
   "source": [
    "mul_entry = 4\n",
    "offset_entry = 0\n",
    "\n",
    "mul_resp = 3\n",
    "offset_resp = 0\n",
    "\n",
    "order_latency = np.zeros(len(data), dtype=[('req_ts', 'i8'), ('exch_ts', 'i8'), ('resp_ts', 'i8'), ('_padding', 'i8')])\n",
    "for i, (exch_ts, local_ts) in enumerate(data):\n",
    "    feed_latency = local_ts - exch_ts\n",
    "    order_entry_latency = mul_entry * feed_latency + offset_entry\n",
    "    order_resp_latency = mul_resp * feed_latency + offset_resp\n",
    "\n",
    "    req_ts = local_ts\n",
    "    order_exch_ts = req_ts + order_entry_latency\n",
    "    resp_ts = order_exch_ts + order_resp_latency\n",
    "    \n",
    "    order_latency[i] = (req_ts, order_exch_ts, resp_ts, 0)\n",
    "    \n",
    "order_latency"
   ]
  },
  {
   "cell_type": "code",
   "execution_count": 9,
   "id": "cea9998d-ed9f-4ac0-aa0e-ecd791e717a5",
   "metadata": {},
   "outputs": [
    {
     "data": {
      "text/html": [
       "<div><style>\n",
       ".dataframe > thead > tr,\n",
       ".dataframe > tbody > tr {\n",
       "  text-align: right;\n",
       "  white-space: pre-wrap;\n",
       "}\n",
       "</style>\n",
       "<small>shape: (37_926, 4)</small><table border=\"1\" class=\"dataframe\"><thead><tr><th>req_ts</th><th>exch_ts</th><th>resp_ts</th><th>_padding</th></tr><tr><td>i64</td><td>i64</td><td>i64</td><td>i64</td></tr></thead><tbody><tr><td>1722346072355279990</td><td>1722346072668399950</td><td>1722346072903239920</td><td>0</td></tr><tr><td>1722346073962855823</td><td>1722346074070279115</td><td>1722346074150846584</td><td>0</td></tr><tr><td>1722346074967117346</td><td>1722346075027586730</td><td>1722346075072938768</td><td>0</td></tr><tr><td>1722346075966054542</td><td>1722346076018272710</td><td>1722346076057436336</td><td>0</td></tr><tr><td>1722346076948889529</td><td>1722346076968447645</td><td>1722346076983116232</td><td>0</td></tr><tr><td>&hellip;</td><td>&hellip;</td><td>&hellip;</td><td>&hellip;</td></tr><tr><td>1722383995950003153</td><td>1722383996006015765</td><td>1722383996048025224</td><td>0</td></tr><tr><td>1722383996998491937</td><td>1722383997012459685</td><td>1722383997022935496</td><td>0</td></tr><tr><td>1722383997993859276</td><td>1722383998161296380</td><td>1722383998286874208</td><td>0</td></tr><tr><td>1722383998965713810</td><td>1722383999120569050</td><td>1722383999236710480</td><td>0</td></tr><tr><td>1722383999965999659</td><td>1722383999993998295</td><td>1722384000014997272</td><td>0</td></tr></tbody></table></div>"
      ],
      "text/plain": [
       "shape: (37_926, 4)\n",
       "┌─────────────────────┬─────────────────────┬─────────────────────┬──────────┐\n",
       "│ req_ts              ┆ exch_ts             ┆ resp_ts             ┆ _padding │\n",
       "│ ---                 ┆ ---                 ┆ ---                 ┆ ---      │\n",
       "│ i64                 ┆ i64                 ┆ i64                 ┆ i64      │\n",
       "╞═════════════════════╪═════════════════════╪═════════════════════╪══════════╡\n",
       "│ 1722346072355279990 ┆ 1722346072668399950 ┆ 1722346072903239920 ┆ 0        │\n",
       "│ 1722346073962855823 ┆ 1722346074070279115 ┆ 1722346074150846584 ┆ 0        │\n",
       "│ 1722346074967117346 ┆ 1722346075027586730 ┆ 1722346075072938768 ┆ 0        │\n",
       "│ 1722346075966054542 ┆ 1722346076018272710 ┆ 1722346076057436336 ┆ 0        │\n",
       "│ 1722346076948889529 ┆ 1722346076968447645 ┆ 1722346076983116232 ┆ 0        │\n",
       "│ …                   ┆ …                   ┆ …                   ┆ …        │\n",
       "│ 1722383995950003153 ┆ 1722383996006015765 ┆ 1722383996048025224 ┆ 0        │\n",
       "│ 1722383996998491937 ┆ 1722383997012459685 ┆ 1722383997022935496 ┆ 0        │\n",
       "│ 1722383997993859276 ┆ 1722383998161296380 ┆ 1722383998286874208 ┆ 0        │\n",
       "│ 1722383998965713810 ┆ 1722383999120569050 ┆ 1722383999236710480 ┆ 0        │\n",
       "│ 1722383999965999659 ┆ 1722383999993998295 ┆ 1722384000014997272 ┆ 0        │\n",
       "└─────────────────────┴─────────────────────┴─────────────────────┴──────────┘"
      ]
     },
     "execution_count": 9,
     "metadata": {},
     "output_type": "execute_result"
    }
   ],
   "source": [
    "df_order_latency = pl.DataFrame(order_latency)\n",
    "df_order_latency"
   ]
  },
  {
   "cell_type": "markdown",
   "id": "0c0eb2a2-64dd-4d4a-93f6-0c52a4bdc142",
   "metadata": {},
   "source": [
    "Checks if latency has invalid negative values."
   ]
  },
  {
   "cell_type": "code",
   "execution_count": 10,
   "id": "542eace5-590e-4d30-a552-0cf0825885d5",
   "metadata": {},
   "outputs": [],
   "source": [
    "order_entry_latency = df_order_latency['exch_ts'] - df_order_latency['req_ts']\n",
    "order_resp_latency = df_order_latency['resp_ts'] - df_order_latency['exch_ts']"
   ]
  },
  {
   "cell_type": "code",
   "execution_count": 11,
   "id": "a64aad08-888f-48e7-85cc-1719ba3333b6",
   "metadata": {},
   "outputs": [
    {
     "data": {
      "text/plain": [
       "0"
      ]
     },
     "execution_count": 11,
     "metadata": {},
     "output_type": "execute_result"
    }
   ],
   "source": [
    "(order_entry_latency <= 0).sum()"
   ]
  },
  {
   "cell_type": "code",
   "execution_count": 12,
   "id": "7e770e94-4660-4b0b-827b-951a046d9529",
   "metadata": {},
   "outputs": [
    {
     "data": {
      "text/plain": [
       "0"
      ]
     },
     "execution_count": 12,
     "metadata": {},
     "output_type": "execute_result"
    }
   ],
   "source": [
    "(order_resp_latency <= 0).sum()"
   ]
  },
  {
   "cell_type": "markdown",
   "id": "18944b3a-747c-4c38-96e1-0ab6930e098c",
   "metadata": {},
   "source": [
    "Here, we wrap the entire process into a method with `njit` for increased speed."
   ]
  },
  {
   "cell_type": "code",
   "execution_count": 21,
   "id": "15b080d5-9e5f-4124-a83f-813bb2ff9414",
   "metadata": {},
   "outputs": [],
   "source": [
    "import numpy as np\n",
    "from numba import njit\n",
    "import polars as pl\n",
    "from hftbacktest import LOCAL_EVENT, EXCH_EVENT\n",
    "\n",
    "@njit\n",
    "def generate_order_latency_nb(data, order_latency, mul_entry, offset_entry, mul_resp, offset_resp):\n",
    "    for i in range(len(data)):\n",
    "        exch_ts = data[i].exch_ts\n",
    "        local_ts = data[i].local_ts\n",
    "        feed_latency = local_ts - exch_ts\n",
    "        order_entry_latency = mul_entry * feed_latency + offset_entry\n",
    "        order_resp_latency = mul_resp * feed_latency + offset_resp\n",
    "\n",
    "        req_ts = local_ts\n",
    "        order_exch_ts = req_ts + order_entry_latency\n",
    "        resp_ts = order_exch_ts + order_resp_latency\n",
    "\n",
    "        order_latency[i].req_ts = req_ts\n",
    "        order_latency[i].exch_ts = order_exch_ts\n",
    "        order_latency[i].resp_ts = resp_ts\n",
    "\n",
    "def generate_order_latency(feed_file, output_file = None, mul_entry = 1, offset_entry = 0, mul_resp = 1, offset_resp = 0):\n",
    "    data = np.load(feed_file)['data']\n",
    "    df = pl.DataFrame(data)\n",
    "    \n",
    "    df = df.filter(\n",
    "        (pl.col('ev') & EXCH_EVENT == EXCH_EVENT) & (pl.col('ev') & LOCAL_EVENT == LOCAL_EVENT)\n",
    "    ).with_columns(\n",
    "        pl.col('local_ts').alias('ts')\n",
    "    ).group_by_dynamic(\n",
    "        'ts', every='1000000000i'\n",
    "    ).agg(\n",
    "        pl.col('exch_ts').last(),\n",
    "        pl.col('local_ts').last()\n",
    "    ).drop('ts')\n",
    "    \n",
    "    data = df.to_numpy(structured=True)\n",
    "\n",
    "    order_latency = np.zeros(len(data), dtype=[('req_ts', 'i8'), ('exch_ts', 'i8'), ('resp_ts', 'i8'), ('_padding', 'i8')])\n",
    "    \n",
    "    output_file = r'D:\\gptcv\\hftbacktest\\latency\\feed_latency_20240730.npz'\n",
    "    generate_order_latency_nb(data, order_latency, mul_entry, offset_entry, mul_resp, offset_resp)\n",
    "    print(order_latency)\n",
    "    if output_file is not None:\n",
    "        print(order_latency)\n",
    "        np.savez_compressed(output_file, data=order_latency)\n",
    "\n",
    "    return order_latency"
   ]
  },
  {
   "cell_type": "code",
   "execution_count": 22,
   "id": "09772349-cebb-4698-8c6f-b77cbd19f15b",
   "metadata": {},
   "outputs": [
    {
     "name": "stdout",
     "output_type": "stream",
     "text": [
      "[(1722346072355279990, 1722346072668399950, 1722346072903239920, 0)\n",
      " (1722346073962855823, 1722346074070279115, 1722346074150846584, 0)\n",
      " (1722346074967117346, 1722346075027586730, 1722346075072938768, 0) ...\n",
      " (1722383997993859276, 1722383998161296380, 1722383998286874208, 0)\n",
      " (1722383998965713810, 1722383999120569050, 1722383999236710480, 0)\n",
      " (1722383999965999659, 1722383999993998295, 1722384000014997272, 0)]\n",
      "[(1722346072355279990, 1722346072668399950, 1722346072903239920, 0)\n",
      " (1722346073962855823, 1722346074070279115, 1722346074150846584, 0)\n",
      " (1722346074967117346, 1722346075027586730, 1722346075072938768, 0) ...\n",
      " (1722383997993859276, 1722383998161296380, 1722383998286874208, 0)\n",
      " (1722383998965713810, 1722383999120569050, 1722383999236710480, 0)\n",
      " (1722383999965999659, 1722383999993998295, 1722384000014997272, 0)]\n"
     ]
    }
   ],
   "source": [
    "order_latency = generate_order_latency(r'D:\\gptcv\\hftbacktest\\Data\\1000bonkusdt\\1000bonkusdt_20240730.npz', output_file=r'D:\\gptcv\\hftbacktest\\latency\\feed_latency_20240730.npz', mul_entry=4, mul_resp=3)"
   ]
  }
 ],
 "metadata": {
  "kernelspec": {
   "display_name": "Python 3 (ipykernel)",
   "language": "python",
   "name": "python3"
  },
  "language_info": {
   "codemirror_mode": {
    "name": "ipython",
    "version": 3
   },
   "file_extension": ".py",
   "mimetype": "text/x-python",
   "name": "python",
   "nbconvert_exporter": "python",
   "pygments_lexer": "ipython3",
   "version": "3.10.11"
  }
 },
 "nbformat": 4,
 "nbformat_minor": 5
}
